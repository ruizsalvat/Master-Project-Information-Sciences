{
 "cells": [
  {
   "cell_type": "code",
   "execution_count": 1,
   "id": "bd0abaac-c0d1-413e-92b7-a2a61f2cda1a",
   "metadata": {},
   "outputs": [
    {
     "name": "stdout",
     "output_type": "stream",
     "text": [
      "Requirement already satisfied: pandas in /home/roger/vuProjects/thesis/thesis_env/lib/python3.10/site-packages (2.2.2)\n",
      "Requirement already satisfied: pytz>=2020.1 in /home/roger/vuProjects/thesis/thesis_env/lib/python3.10/site-packages (from pandas) (2024.1)\n",
      "Requirement already satisfied: python-dateutil>=2.8.2 in /home/roger/vuProjects/thesis/thesis_env/lib/python3.10/site-packages (from pandas) (2.9.0.post0)\n",
      "Requirement already satisfied: tzdata>=2022.7 in /home/roger/vuProjects/thesis/thesis_env/lib/python3.10/site-packages (from pandas) (2024.1)\n",
      "Requirement already satisfied: numpy>=1.22.4 in /home/roger/vuProjects/thesis/thesis_env/lib/python3.10/site-packages (from pandas) (1.26.4)\n",
      "Requirement already satisfied: six>=1.5 in /home/roger/vuProjects/thesis/thesis_env/lib/python3.10/site-packages (from python-dateutil>=2.8.2->pandas) (1.16.0)\n",
      "Requirement already satisfied: xlrd in /home/roger/vuProjects/thesis/thesis_env/lib/python3.10/site-packages (2.0.1)\n"
     ]
    }
   ],
   "source": [
    "!pip install pandas\n",
    "!pip install xlrd"
   ]
  },
  {
   "cell_type": "code",
   "execution_count": 2,
   "id": "d74bff91-a5d9-47e9-815e-9c4cc9c5b1b6",
   "metadata": {},
   "outputs": [],
   "source": [
    "import pandas as pd"
   ]
  },
  {
   "cell_type": "code",
   "execution_count": 3,
   "id": "307cc3af-0a8e-4521-8c4a-5e06763a65fa",
   "metadata": {},
   "outputs": [],
   "source": [
    "# TODO: rename file to data.xls\n",
    "codes = pd.read_excel('data.xls', 0)\n",
    "categories = pd.read_excel('data.xls', 1)\n",
    "# urls = pd.read_excel('data.xls', 2)"
   ]
  },
  {
   "cell_type": "code",
   "execution_count": 4,
   "id": "4a6c2c85-baeb-4da3-9ec6-db2f66c918b1",
   "metadata": {},
   "outputs": [],
   "source": [
    "file_text = '''<?xml version=\"1.0\" encoding=\"UTF-8\"?>\n",
    "    <rdf:RDF xmlns:rdf=\"http://www.w3.org/1999/02/22-rdf-syntax-ns#\"\n",
    "         xmlns:rdfs=\"http://www.w3.org/2000/01/rdf-schema#\"\n",
    "         xmlns:ex=\"http://example.com/ontology#\">\n",
    "         \n",
    "        <!-- Classes -->\n",
    "        <rdfs:Class rdf:about=\"http://example.com/ontology#MLPlatform\"/>\n",
    "'''\n",
    "\n",
    "for index, row in categories.iterrows():\n",
    "    class_name = row['Code']\n",
    "\n",
    "    if pd.isnull(row['Category']) is False:\n",
    "        parent_class_name = row['Category']\n",
    "    else:\n",
    "        parent_class_name = 'MLPlatform'\n",
    "\n",
    "    class_text = f'''\n",
    "        <rdfs:Class rdf:about=\"http://example.com/ontology#{class_name.replace(' ', '_').replace('/', '_')}\">\n",
    "            <rdfs:subClassOf rdf:resource=\"http://example.com/ontology#{parent_class_name.replace(' ', '_').replace('/', '_')}\"/>\n",
    "        </rdfs:Class>\n",
    "    '''\n",
    "\n",
    "    file_text = file_text + '\\n' + class_text + '\\n'\n",
    "\n",
    "file_text = file_text + '''\n",
    "\n",
    "    <!-- Properties -->\n",
    "\t<rdf:Property rdf:about=\"http://example.com/ontology#Text\">\n",
    "        <rdfs:domain rdf:resource=\"http://example.com/ontology#MLPlatform\"/>\n",
    "        <rdfs:range rdf:resource=\"http://www.w3.org/2001/XMLSchema#string\"/>\n",
    "    </rdf:Property>\n",
    "    \n",
    "    <rdf:Property rdf:about=\"http://example.com/ontology#File\">\n",
    "        <rdfs:domain rdf:resource=\"http://example.com/ontology#MLPlatform\"/>\n",
    "        <rdfs:range rdf:resource=\"http://www.w3.org/2001/XMLSchema#string\"/>\n",
    "    </rdf:Property>\n",
    "    \n",
    "    <rdf:Property rdf:about=\"http://example.com/ontology#Provider\">\n",
    "\t\t<rdfs:domain rdf:resource=\"http://example.com/ontology#MLPlatform\"/>\n",
    "\t\t<rdfs:range rdf:resource=\"http://www.w3.org/2001/XMLSchema#GoogleCloud\"/>\n",
    "\t</rdf:Property>\n",
    "\t<rdf:Property rdf:about=\"http://example.com/ontology#Provider\">\n",
    "\t\t<rdfs:domain rdf:resource=\"http://example.com/ontology#MLPlatform\"/>\n",
    "\t\t<rdfs:range rdf:resource=\"http://www.w3.org/2001/XMLSchema#AWS\"/>\n",
    "\t</rdf:Property>\n",
    "\t<rdf:Property rdf:about=\"http://example.com/ontology#Provider\">\n",
    "\t\t<rdfs:domain rdf:resource=\"http://example.com/ontology#MLPlatform\"/>\n",
    "\t\t<rdfs:range rdf:resource=\"http://www.w3.org/2001/XMLSchema#Azure\"/>\n",
    "\t</rdf:Property>\n",
    "\t<rdf:Property rdf:about=\"http://example.com/ontology#Provider\">\n",
    "\t\t<rdfs:domain rdf:resource=\"http://example.com/ontology#MLPlatform\"/>\n",
    "\t\t<rdfs:range rdf:resource=\"http://www.w3.org/2001/XMLSchema#IBM\"/>\n",
    "\t</rdf:Property>\n",
    "\t<rdf:Property rdf:about=\"http://example.com/ontology#Provider\">\n",
    "\t\t<rdfs:domain rdf:resource=\"http://example.com/ontology#MLPlatform\"/>\n",
    "\t\t<rdfs:range rdf:resource=\"http://www.w3.org/2001/XMLSchema#BigML\"/>\n",
    "\t</rdf:Property>\n",
    "\t<rdf:Property rdf:about=\"http://example.com/ontology#Provider\">\n",
    "\t\t<rdfs:domain rdf:resource=\"http://example.com/ontology#MLPlatform\"/>\n",
    "\t\t<rdfs:range rdf:resource=\"http://www.w3.org/2001/XMLSchema#H2O\"/>\n",
    "\t</rdf:Property>\n",
    "    \n",
    "'''\n",
    "\n",
    "i = 0\n",
    "for index, row in codes.iterrows():\n",
    "    instance_text = row['Text']\n",
    "    instance_code = row['Code']\n",
    "    file_name = row['File']\n",
    "    provider_name = row['Provider']\n",
    "\n",
    "    annotation_text = f'''\n",
    "        <ex:{instance_code.replace(' ', '_').replace('/', '_')} rdf:about=\"http://example.com/ontology#annotation_{i}\">\n",
    "            <ex:Text>{instance_text}</ex:Text>\n",
    "            <ex:File>{file_name}</ex:File>\n",
    "            <ex:Provider>{provider_name}</ex:Provider>\n",
    "    \t</ex:{instance_code.replace(' ', '_').replace('/', '_')}>\n",
    "    '''\n",
    "\n",
    "    file_text = file_text + '\\n' + annotation_text + '\\n'\n",
    "    i += 1\n",
    "\n",
    "file_text = file_text + '\\n</rdf:RDF>'"
   ]
  },
  {
   "cell_type": "code",
   "execution_count": 5,
   "id": "31d1e285-731a-4e49-913b-eacc92f3204c",
   "metadata": {},
   "outputs": [],
   "source": [
    "with open(f'ontology.owl', 'w') as f:\n",
    "    f.write(file_text)"
   ]
  },
  {
   "cell_type": "code",
   "execution_count": null,
   "id": "0e69662a-16f6-4376-aa63-5c0a2dcbd4c8",
   "metadata": {},
   "outputs": [],
   "source": []
  }
 ],
 "metadata": {
  "kernelspec": {
   "display_name": "Python 3 (ipykernel)",
   "language": "python",
   "name": "python3"
  },
  "language_info": {
   "codemirror_mode": {
    "name": "ipython",
    "version": 3
   },
   "file_extension": ".py",
   "mimetype": "text/x-python",
   "name": "python",
   "nbconvert_exporter": "python",
   "pygments_lexer": "ipython3",
   "version": "3.10.12"
  }
 },
 "nbformat": 4,
 "nbformat_minor": 5
}
